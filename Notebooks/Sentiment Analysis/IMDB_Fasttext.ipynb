{
 "cells": [
  {
   "cell_type": "code",
   "execution_count": 1,
   "id": "09bb4151-85c5-4e08-8628-ebd4d35abf4f",
   "metadata": {},
   "outputs": [],
   "source": [
    "import fasttext\n",
    "from datasets import load_dataset\n",
    "import pandas as pd\n",
    "import csv\n",
    "from sklearn.metrics import accuracy_score, f1_score"
   ]
  },
  {
   "cell_type": "code",
   "execution_count": 2,
   "id": "32a21a1e-4640-473c-b12e-cee252ce531a",
   "metadata": {},
   "outputs": [],
   "source": [
    "dataset = load_dataset('stanfordnlp/imdb')"
   ]
  },
  {
   "cell_type": "code",
   "execution_count": 3,
   "id": "c8e44f64-5536-44a1-8eec-154476489483",
   "metadata": {},
   "outputs": [],
   "source": [
    "# Let's convert them to dataframes\n",
    "df_train = pd.DataFrame(dataset['train'])\n",
    "df_test = pd.DataFrame(dataset['test'])"
   ]
  },
  {
   "cell_type": "code",
   "execution_count": 4,
   "id": "f3562e39-bf06-4499-93c8-7ed59c8680c7",
   "metadata": {},
   "outputs": [],
   "source": [
    "def get_fasttext_label(label):\n",
    "    if label == 0:\n",
    "        return '__label__neg'\n",
    "    if label == 1:\n",
    "        return '__label__pos'"
   ]
  },
  {
   "cell_type": "code",
   "execution_count": 5,
   "id": "6c822e29-9821-4a55-a01d-5ed16f6daea8",
   "metadata": {},
   "outputs": [],
   "source": [
    "df_train['fasttext_label'] = df_train['label'].apply(get_fasttext_label)\n",
    "df_test['fasttext_label'] = df_test['label'].apply(get_fasttext_label)"
   ]
  },
  {
   "cell_type": "code",
   "execution_count": 6,
   "id": "e5bd0223-ae35-453d-babb-209aaa2c4561",
   "metadata": {},
   "outputs": [
    {
     "data": {
      "text/html": [
       "<div>\n",
       "<style scoped>\n",
       "    .dataframe tbody tr th:only-of-type {\n",
       "        vertical-align: middle;\n",
       "    }\n",
       "\n",
       "    .dataframe tbody tr th {\n",
       "        vertical-align: top;\n",
       "    }\n",
       "\n",
       "    .dataframe thead th {\n",
       "        text-align: right;\n",
       "    }\n",
       "</style>\n",
       "<table border=\"1\" class=\"dataframe\">\n",
       "  <thead>\n",
       "    <tr style=\"text-align: right;\">\n",
       "      <th></th>\n",
       "      <th>text</th>\n",
       "      <th>label</th>\n",
       "      <th>fasttext_label</th>\n",
       "    </tr>\n",
       "  </thead>\n",
       "  <tbody>\n",
       "    <tr>\n",
       "      <th>0</th>\n",
       "      <td>I rented I AM CURIOUS-YELLOW from my video sto...</td>\n",
       "      <td>0</td>\n",
       "      <td>__label__neg</td>\n",
       "    </tr>\n",
       "    <tr>\n",
       "      <th>1</th>\n",
       "      <td>\"I Am Curious: Yellow\" is a risible and preten...</td>\n",
       "      <td>0</td>\n",
       "      <td>__label__neg</td>\n",
       "    </tr>\n",
       "    <tr>\n",
       "      <th>2</th>\n",
       "      <td>If only to avoid making this type of film in t...</td>\n",
       "      <td>0</td>\n",
       "      <td>__label__neg</td>\n",
       "    </tr>\n",
       "    <tr>\n",
       "      <th>3</th>\n",
       "      <td>This film was probably inspired by Godard's Ma...</td>\n",
       "      <td>0</td>\n",
       "      <td>__label__neg</td>\n",
       "    </tr>\n",
       "    <tr>\n",
       "      <th>4</th>\n",
       "      <td>Oh, brother...after hearing about this ridicul...</td>\n",
       "      <td>0</td>\n",
       "      <td>__label__neg</td>\n",
       "    </tr>\n",
       "    <tr>\n",
       "      <th>5</th>\n",
       "      <td>I would put this at the top of my list of film...</td>\n",
       "      <td>0</td>\n",
       "      <td>__label__neg</td>\n",
       "    </tr>\n",
       "    <tr>\n",
       "      <th>6</th>\n",
       "      <td>Whoever wrote the screenplay for this movie ob...</td>\n",
       "      <td>0</td>\n",
       "      <td>__label__neg</td>\n",
       "    </tr>\n",
       "    <tr>\n",
       "      <th>7</th>\n",
       "      <td>When I first saw a glimpse of this movie, I qu...</td>\n",
       "      <td>0</td>\n",
       "      <td>__label__neg</td>\n",
       "    </tr>\n",
       "    <tr>\n",
       "      <th>8</th>\n",
       "      <td>Who are these \"They\"- the actors? the filmmake...</td>\n",
       "      <td>0</td>\n",
       "      <td>__label__neg</td>\n",
       "    </tr>\n",
       "    <tr>\n",
       "      <th>9</th>\n",
       "      <td>This is said to be a personal film for Peter B...</td>\n",
       "      <td>0</td>\n",
       "      <td>__label__neg</td>\n",
       "    </tr>\n",
       "  </tbody>\n",
       "</table>\n",
       "</div>"
      ],
      "text/plain": [
       "                                                text  label fasttext_label\n",
       "0  I rented I AM CURIOUS-YELLOW from my video sto...      0   __label__neg\n",
       "1  \"I Am Curious: Yellow\" is a risible and preten...      0   __label__neg\n",
       "2  If only to avoid making this type of film in t...      0   __label__neg\n",
       "3  This film was probably inspired by Godard's Ma...      0   __label__neg\n",
       "4  Oh, brother...after hearing about this ridicul...      0   __label__neg\n",
       "5  I would put this at the top of my list of film...      0   __label__neg\n",
       "6  Whoever wrote the screenplay for this movie ob...      0   __label__neg\n",
       "7  When I first saw a glimpse of this movie, I qu...      0   __label__neg\n",
       "8  Who are these \"They\"- the actors? the filmmake...      0   __label__neg\n",
       "9  This is said to be a personal film for Peter B...      0   __label__neg"
      ]
     },
     "execution_count": 6,
     "metadata": {},
     "output_type": "execute_result"
    }
   ],
   "source": [
    "df_train.head(10)"
   ]
  },
  {
   "cell_type": "code",
   "execution_count": 7,
   "id": "77d93d91-264b-44c6-9976-cb75983873c4",
   "metadata": {},
   "outputs": [],
   "source": [
    "df_train[['fasttext_label', 'text']].to_csv('../../data/train_fasttext_imdb.txt', index = False, sep = ' ', header = None, quoting = csv.QUOTE_NONE, quotechar = \"\", escapechar = \" \")\n",
    "df_test[['fasttext_label', 'text']].to_csv('../../data/test_fasttext_imdb.txt', index = False, sep = ' ', header = None, quoting = csv.QUOTE_NONE, quotechar = \"\", escapechar = \" \")"
   ]
  },
  {
   "cell_type": "code",
   "execution_count": 8,
   "id": "87c017e2-cc3a-4f43-9015-038a4e3cf8cc",
   "metadata": {},
   "outputs": [
    {
     "name": "stderr",
     "output_type": "stream",
     "text": [
      "Read 5M words\n",
      "Number of words:  281132\n",
      "Number of labels: 2\n",
      "Progress: 100.0% words/sec/thread: 1616309 lr:  0.000000 avg.loss:  0.134875 ETA:   0h 0m 0s100.0% words/sec/thread: 1616324 lr: -0.000002 avg.loss:  0.134875 ETA:   0h 0m 0s\n"
     ]
    }
   ],
   "source": [
    "model = fasttext.train_supervised('../../data/train_fasttext_imdb.txt', epoch=25, wordNgrams=2)"
   ]
  },
  {
   "cell_type": "code",
   "execution_count": 9,
   "id": "c4bc58eb-666a-4081-a8f3-a6a2dc78c82d",
   "metadata": {},
   "outputs": [],
   "source": [
    "def predict_fasttext(text):\n",
    "    label = model.predict(text)[0][0]\n",
    "    if label == '__label__neg':\n",
    "        return 0\n",
    "    if label == '__label__pos':\n",
    "        return 1"
   ]
  },
  {
   "cell_type": "code",
   "execution_count": 10,
   "id": "69fb30c3-6865-4618-afb7-fedc5014e4c8",
   "metadata": {},
   "outputs": [],
   "source": [
    "df_train['predicted_fasttext'] = df_train['text'].apply(predict_fasttext)\n",
    "df_test['predicted_fasttext'] = df_test['text'].apply(predict_fasttext)"
   ]
  },
  {
   "cell_type": "code",
   "execution_count": 11,
   "id": "060b8fb7-46be-4556-9110-603ad56a59a8",
   "metadata": {},
   "outputs": [
    {
     "name": "stdout",
     "output_type": "stream",
     "text": [
      "Train Accuracy: 0.99952, Test Accuracy: 0.88652\n"
     ]
    }
   ],
   "source": [
    "print('Train Accuracy: {}, Test Accuracy: {}'.format(\n",
    "    accuracy_score(y_true=df_train['label'], y_pred=df_train['predicted_fasttext']), \n",
    "    accuracy_score(y_true=df_test['label'], y_pred=df_test['predicted_fasttext'])\n",
    "))"
   ]
  },
  {
   "cell_type": "code",
   "execution_count": 12,
   "id": "b2b98145-4c64-4a89-a223-24dbf64ad1d1",
   "metadata": {},
   "outputs": [
    {
     "name": "stdout",
     "output_type": "stream",
     "text": [
      "Train f-score: 0.9995198463508322, Test f-score: 0.8853598415969612\n"
     ]
    }
   ],
   "source": [
    "print('Train f-score: {}, Test f-score: {}'.format(\n",
    "    f1_score(y_true=df_train['label'], y_pred=df_train['predicted_fasttext']), \n",
    "    f1_score(y_true=df_test['label'], y_pred=df_test['predicted_fasttext']))\n",
    ")"
   ]
  }
 ],
 "metadata": {
  "kernelspec": {
   "display_name": "Python 3 (ipykernel)",
   "language": "python",
   "name": "python3"
  },
  "language_info": {
   "codemirror_mode": {
    "name": "ipython",
    "version": 3
   },
   "file_extension": ".py",
   "mimetype": "text/x-python",
   "name": "python",
   "nbconvert_exporter": "python",
   "pygments_lexer": "ipython3",
   "version": "3.10.12"
  }
 },
 "nbformat": 4,
 "nbformat_minor": 5
}
