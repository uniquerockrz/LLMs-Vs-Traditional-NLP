{
 "cells": [
  {
   "cell_type": "code",
   "execution_count": 1,
   "id": "e76bac29-c93d-4b80-ac9d-4c692ddf3b47",
   "metadata": {},
   "outputs": [],
   "source": [
    "from datasets import load_dataset\n",
    "from transformers import pipeline\n",
    "from transformers.pipelines.pt_utils import KeyDataset\n",
    "import numpy as np\n",
    "import timeit"
   ]
  },
  {
   "cell_type": "code",
   "execution_count": 2,
   "id": "6d8677ac-790f-4e61-a7bf-73deb344d725",
   "metadata": {},
   "outputs": [
    {
     "name": "stderr",
     "output_type": "stream",
     "text": [
      "No model was supplied, defaulted to distilbert/distilbert-base-uncased-finetuned-sst-2-english and revision af0f99b (https://huggingface.co/distilbert/distilbert-base-uncased-finetuned-sst-2-english).\n",
      "Using a pipeline without specifying a model name and revision in production is not recommended.\n"
     ]
    }
   ],
   "source": [
    "pipe = pipeline('sentiment-analysis')"
   ]
  },
  {
   "cell_type": "code",
   "execution_count": 3,
   "id": "aff50713-30f7-481e-bb4a-897ddc8230d7",
   "metadata": {},
   "outputs": [],
   "source": [
    "dataset_test = load_dataset('stanfordnlp/imdb', split='test')"
   ]
  },
  {
   "cell_type": "code",
   "execution_count": 4,
   "id": "4413e1ed-5768-48e3-8a04-7d2f60604b8a",
   "metadata": {},
   "outputs": [],
   "source": [
    "predicted_values = []"
   ]
  },
  {
   "cell_type": "code",
   "execution_count": null,
   "id": "61081129-f0d5-4d0f-a754-7a404cdfbcce",
   "metadata": {},
   "outputs": [
    {
     "name": "stdout",
     "output_type": "stream",
     "text": [
      "100\n",
      "200\n",
      "300\n",
      "400\n",
      "500\n",
      "600\n",
      "700\n",
      "800\n",
      "900\n",
      "1000\n",
      "1100\n",
      "1200\n",
      "1300\n"
     ]
    }
   ],
   "source": [
    "i = 0\n",
    "start_time = timeit.default_timer()\n",
    "for out in pipe(KeyDataset(dataset_test, 'text'), max_length=512, truncation=True):\n",
    "    label = out['label']\n",
    "    \n",
    "    if label == 'NEGATIVE':\n",
    "         predicted_values.append(0)\n",
    "    elif label == 'POSITIVE':\n",
    "         predicted_values.append(1)\n",
    "    \n",
    "    i = i + 1\n",
    "    if i % 100 == 0:\n",
    "        print(i)\n",
    "\n",
    "stop_time = timeit.default_timer()"
   ]
  },
  {
   "cell_type": "code",
   "execution_count": null,
   "id": "4fc60a76-e12b-4c64-a276-b44032a8c56e",
   "metadata": {},
   "outputs": [],
   "source": []
  }
 ],
 "metadata": {
  "kernelspec": {
   "display_name": "Python 3 (ipykernel)",
   "language": "python",
   "name": "python3"
  },
  "language_info": {
   "codemirror_mode": {
    "name": "ipython",
    "version": 3
   },
   "file_extension": ".py",
   "mimetype": "text/x-python",
   "name": "python",
   "nbconvert_exporter": "python",
   "pygments_lexer": "ipython3",
   "version": "3.10.12"
  }
 },
 "nbformat": 4,
 "nbformat_minor": 5
}
