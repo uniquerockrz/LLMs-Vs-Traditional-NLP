{
 "cells": [
  {
   "cell_type": "code",
   "execution_count": 26,
   "metadata": {},
   "outputs": [],
   "source": [
    "from dotenv import load_dotenv\n",
    "import os\n",
    "import google.generativeai as genai\n",
    "import google.ai.generativelanguage as glm\n",
    "import textwrap\n",
    "from datasets import load_dataset\n",
    "import pandas as pd"
   ]
  },
  {
   "cell_type": "code",
   "execution_count": 4,
   "metadata": {},
   "outputs": [
    {
     "data": {
      "text/plain": [
       "True"
      ]
     },
     "execution_count": 4,
     "metadata": {},
     "output_type": "execute_result"
    }
   ],
   "source": [
    "load_dotenv()"
   ]
  },
  {
   "cell_type": "code",
   "execution_count": 20,
   "metadata": {},
   "outputs": [],
   "source": [
    "dataset = load_dataset('ag_news')"
   ]
  },
  {
   "cell_type": "code",
   "execution_count": 21,
   "metadata": {},
   "outputs": [],
   "source": [
    "# Let's convert them to dataframes\n",
    "df_train = pd.DataFrame(dataset['train'])\n",
    "df_test = pd.DataFrame(dataset['test'])"
   ]
  },
  {
   "cell_type": "code",
   "execution_count": 22,
   "metadata": {},
   "outputs": [
    {
     "data": {
      "text/html": [
       "<div>\n",
       "<style scoped>\n",
       "    .dataframe tbody tr th:only-of-type {\n",
       "        vertical-align: middle;\n",
       "    }\n",
       "\n",
       "    .dataframe tbody tr th {\n",
       "        vertical-align: top;\n",
       "    }\n",
       "\n",
       "    .dataframe thead th {\n",
       "        text-align: right;\n",
       "    }\n",
       "</style>\n",
       "<table border=\"1\" class=\"dataframe\">\n",
       "  <thead>\n",
       "    <tr style=\"text-align: right;\">\n",
       "      <th></th>\n",
       "      <th>text</th>\n",
       "      <th>label</th>\n",
       "    </tr>\n",
       "  </thead>\n",
       "  <tbody>\n",
       "    <tr>\n",
       "      <th>0</th>\n",
       "      <td>Wall St. Bears Claw Back Into the Black (Reute...</td>\n",
       "      <td>2</td>\n",
       "    </tr>\n",
       "    <tr>\n",
       "      <th>1</th>\n",
       "      <td>Carlyle Looks Toward Commercial Aerospace (Reu...</td>\n",
       "      <td>2</td>\n",
       "    </tr>\n",
       "    <tr>\n",
       "      <th>2</th>\n",
       "      <td>Oil and Economy Cloud Stocks' Outlook (Reuters...</td>\n",
       "      <td>2</td>\n",
       "    </tr>\n",
       "    <tr>\n",
       "      <th>3</th>\n",
       "      <td>Iraq Halts Oil Exports from Main Southern Pipe...</td>\n",
       "      <td>2</td>\n",
       "    </tr>\n",
       "    <tr>\n",
       "      <th>4</th>\n",
       "      <td>Oil prices soar to all-time record, posing new...</td>\n",
       "      <td>2</td>\n",
       "    </tr>\n",
       "    <tr>\n",
       "      <th>5</th>\n",
       "      <td>Stocks End Up, But Near Year Lows (Reuters) Re...</td>\n",
       "      <td>2</td>\n",
       "    </tr>\n",
       "    <tr>\n",
       "      <th>6</th>\n",
       "      <td>Money Funds Fell in Latest Week (AP) AP - Asse...</td>\n",
       "      <td>2</td>\n",
       "    </tr>\n",
       "    <tr>\n",
       "      <th>7</th>\n",
       "      <td>Fed minutes show dissent over inflation (USATO...</td>\n",
       "      <td>2</td>\n",
       "    </tr>\n",
       "    <tr>\n",
       "      <th>8</th>\n",
       "      <td>Safety Net (Forbes.com) Forbes.com - After ear...</td>\n",
       "      <td>2</td>\n",
       "    </tr>\n",
       "    <tr>\n",
       "      <th>9</th>\n",
       "      <td>Wall St. Bears Claw Back Into the Black  NEW Y...</td>\n",
       "      <td>2</td>\n",
       "    </tr>\n",
       "  </tbody>\n",
       "</table>\n",
       "</div>"
      ],
      "text/plain": [
       "                                                text  label\n",
       "0  Wall St. Bears Claw Back Into the Black (Reute...      2\n",
       "1  Carlyle Looks Toward Commercial Aerospace (Reu...      2\n",
       "2  Oil and Economy Cloud Stocks' Outlook (Reuters...      2\n",
       "3  Iraq Halts Oil Exports from Main Southern Pipe...      2\n",
       "4  Oil prices soar to all-time record, posing new...      2\n",
       "5  Stocks End Up, But Near Year Lows (Reuters) Re...      2\n",
       "6  Money Funds Fell in Latest Week (AP) AP - Asse...      2\n",
       "7  Fed minutes show dissent over inflation (USATO...      2\n",
       "8  Safety Net (Forbes.com) Forbes.com - After ear...      2\n",
       "9  Wall St. Bears Claw Back Into the Black  NEW Y...      2"
      ]
     },
     "execution_count": 22,
     "metadata": {},
     "output_type": "execute_result"
    }
   ],
   "source": [
    "df_train.head(10)"
   ]
  },
  {
   "cell_type": "code",
   "execution_count": 11,
   "metadata": {},
   "outputs": [],
   "source": [
    "genai.configure(api_key=os.environ['GOOGLE_KEY'])\n",
    "model = genai.GenerativeModel('gemini-pro')"
   ]
  },
  {
   "cell_type": "code",
   "execution_count": 12,
   "metadata": {},
   "outputs": [],
   "source": [
    "response = model.generate_content(\"Write a story about a magic backpack.\")"
   ]
  },
  {
   "cell_type": "code",
   "execution_count": 13,
   "metadata": {},
   "outputs": [
    {
     "name": "stdout",
     "output_type": "stream",
     "text": [
      "In the bustling town of Willow Creek, amidst the quaint shops and cobblestone streets, there existed a remarkable backpack—a backpack imbued with extraordinary magic.\n",
      "\n",
      "Crafted from ancient, shimmering fabric, the backpack possessed an unassuming appearance. But within its four compartments resided secrets that defied all logic.\n",
      "\n",
      "Emily, a curious and imaginative 12-year-old, stumbled upon the backpack at a dusty antique shop. Intrigued by its enigmatic presence, she decided to take it home. Little did she know that her life was about to change forever.\n",
      "\n",
      "As Emily unzipped the first compartment, a brilliant array of colors erupted before her eyes. Books of all shapes and sizes floated weightlessly, their pages turning by themselves—a testament to the backpack's unspoken knowledge.\n",
      "\n",
      "With a whisper of excitement, Emily reached for the second compartment. Suddenly, she was enveloped in a warm breeze that carried the scent of blooming flowers. Clothes of every imaginable style and color danced around her, ready to adorn her with their beauty.\n",
      "\n",
      "Undeterred, Emily ventured into the third compartment. An astonishing collection of toys met her gaze, each one pulsating with energy and longing to bring joy to its newfound owner.\n",
      "\n",
      "Finally, she opened the fourth and most mysterious compartment. Inside, a single, ornate key lay nestled on a bed of soft velvet. Its intricate carvings hinted at a hidden treasury.\n",
      "\n",
      "With trembling hands, Emily placed the key in her pocket and began her search. She followed the backpack's lead, exploring hidden passages and forgotten rooms in Willow Creek. Each step brought her closer to the backpack's true purpose.\n",
      "\n",
      "At long last, she reached an ancient library concealed beneath the town square. The room was filled with ancient texts and dusty scrolls. And there, in the center of the library, stood a massive door locked with the key she had found.\n",
      "\n",
      "With a surge of determination, Emily inserted the key and turned. The heavy door creaked open, revealing a vast chamber filled with untold wonders. Treasures from distant lands, knowledge lost to time, and secrets that had been guarded for centuries were all within her reach.\n",
      "\n",
      "From that day forward, Emily and her magic backpack became inseparable. Together, they embarked on countless adventures, sharing the backpack's wonders with those in need and forging an unbreakable bond that would last a lifetime.\n",
      "\n",
      "And so, the legend of the Magic Backpack was passed down through generations, a tale of wonder, discovery, and the boundless possibilities that lie within the realms of imagination and the unknown.\n"
     ]
    }
   ],
   "source": [
    "print(response.text)"
   ]
  },
  {
   "cell_type": "code",
   "execution_count": 29,
   "metadata": {},
   "outputs": [],
   "source": [
    "classification = glm.Schema(\n",
    "    type = glm.Type.OBJECT,\n",
    "    properties = {\n",
    "        'classification_label':  glm.Schema(type=glm.Type.STRING),\n",
    "    },\n",
    "    required=['classification_label']\n",
    ")"
   ]
  },
  {
   "cell_type": "code",
   "execution_count": 30,
   "metadata": {},
   "outputs": [],
   "source": [
    "classify_news_article = glm.FunctionDeclaration(\n",
    "    name=\"classify_news_article\",\n",
    "    description=textwrap.dedent(\"\"\"\\\n",
    "        Classify the news article into one of the four categories: world, sports, business, technology\n",
    "        \"\"\"),\n",
    "    parameters=glm.Schema(\n",
    "        type=glm.Type.OBJECT,\n",
    "        properties = {\n",
    "            'classification_label': classification\n",
    "        }\n",
    "    )\n",
    ")"
   ]
  },
  {
   "cell_type": "code",
   "execution_count": 31,
   "metadata": {},
   "outputs": [],
   "source": [
    "model = genai.GenerativeModel(model_name='gemini-1.0-pro', tools = [classify_news_article])"
   ]
  },
  {
   "cell_type": "code",
   "execution_count": 46,
   "metadata": {},
   "outputs": [],
   "source": [
    "article = df_test.iloc[0].text"
   ]
  },
  {
   "cell_type": "code",
   "execution_count": 47,
   "metadata": {},
   "outputs": [
    {
     "data": {
      "text/plain": [
       "\"Fears for T N pension after talks Unions representing workers at Turner   Newall say they are 'disappointed' after talks with stricken parent firm Federal Mogul.\""
      ]
     },
     "execution_count": 47,
     "metadata": {},
     "output_type": "execute_result"
    }
   ],
   "source": [
    "article"
   ]
  },
  {
   "cell_type": "code",
   "execution_count": 48,
   "metadata": {},
   "outputs": [],
   "source": [
    "result = model.generate_content(f\"\"\"\n",
    "    Please classify the provided news article into one of the following categories: world, sports, business, technology. Do not return null as a classification label.\n",
    "\n",
    "{article}\n",
    "\"\"\")"
   ]
  },
  {
   "cell_type": "code",
   "execution_count": 54,
   "metadata": {},
   "outputs": [
    {
     "name": "stdout",
     "output_type": "stream",
     "text": [
      "business\n"
     ]
    }
   ],
   "source": [
    "fc = result.candidates[0].content.parts[0].function_call\n",
    "print(type(fc).to_dict(fc)['args']['classification_label']['classification_label'])"
   ]
  },
  {
   "cell_type": "code",
   "execution_count": 57,
   "metadata": {},
   "outputs": [],
   "source": [
    "def get_gemini_classification(news_text):\n",
    "    result = model.generate_content(f\"\"\"\n",
    "    Please classify the provided news article into one of the following categories: world, sports, business, technology. Do not return null as a classification label.\n",
    "\n",
    "        {article}\n",
    "    \"\"\")\n",
    "    \n",
    "    fc_result = result.candidates[0].content.parts[0].function_call\n",
    "    label = type(fc_result).to_dict(fc_result)['args']['classification_label']['classification_label']\n",
    "    if label == 'world':\n",
    "        return 0\n",
    "    if label == 'sports':\n",
    "        return 1\n",
    "    if label == 'business':\n",
    "        return 2\n",
    "    if label == 'technology':\n",
    "        return 3"
   ]
  },
  {
   "cell_type": "code",
   "execution_count": 58,
   "metadata": {},
   "outputs": [
    {
     "data": {
      "text/plain": [
       "2"
      ]
     },
     "execution_count": 58,
     "metadata": {},
     "output_type": "execute_result"
    }
   ],
   "source": [
    "get_gemini_classification(df_test.iloc[5].text)"
   ]
  },
  {
   "cell_type": "code",
   "execution_count": null,
   "metadata": {},
   "outputs": [],
   "source": []
  }
 ],
 "metadata": {
  "kernelspec": {
   "display_name": ".venv",
   "language": "python",
   "name": "python3"
  },
  "language_info": {
   "codemirror_mode": {
    "name": "ipython",
    "version": 3
   },
   "file_extension": ".py",
   "mimetype": "text/x-python",
   "name": "python",
   "nbconvert_exporter": "python",
   "pygments_lexer": "ipython3",
   "version": "3.12.2"
  }
 },
 "nbformat": 4,
 "nbformat_minor": 2
}
