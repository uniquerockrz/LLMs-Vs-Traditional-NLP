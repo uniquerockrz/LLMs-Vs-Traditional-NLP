{
 "cells": [
  {
   "cell_type": "code",
   "execution_count": 1,
   "id": "9361792b-c6d7-40f7-9dea-adc787c5c387",
   "metadata": {},
   "outputs": [],
   "source": [
    "from datasets import load_dataset\n",
    "from transformers import pipeline\n",
    "from transformers.pipelines.pt_utils import KeyDataset\n",
    "import numpy as np\n",
    "import timeit\n",
    "import pandas as pd\n",
    "from sklearn.metrics import accuracy_score, f1_score"
   ]
  },
  {
   "cell_type": "code",
   "execution_count": 2,
   "id": "d5d0a23e-ca32-4a0c-bda4-95b86140d765",
   "metadata": {},
   "outputs": [],
   "source": [
    "pipe = pipeline('zero-shot-classification', model='facebook/bart-large-mnli')"
   ]
  },
  {
   "cell_type": "code",
   "execution_count": 3,
   "id": "b13d62e9-3047-4e43-a1bc-713f44ee1e49",
   "metadata": {},
   "outputs": [],
   "source": [
    "dataset_train = load_dataset('ag_news', split='train')\n",
    "dataset_test = load_dataset('ag_news', split='test')"
   ]
  },
  {
   "cell_type": "code",
   "execution_count": 4,
   "id": "5af2b837-6b04-475b-99ed-300c94521d58",
   "metadata": {},
   "outputs": [],
   "source": [
    "df_test = pd.DataFrame(dataset_test)"
   ]
  },
  {
   "cell_type": "code",
   "execution_count": 6,
   "id": "56178ab5-d39c-4487-ba33-e0994066a07f",
   "metadata": {},
   "outputs": [],
   "source": [
    "predicted_values = []"
   ]
  },
  {
   "cell_type": "code",
   "execution_count": 7,
   "id": "f656b395-347b-4638-8100-a7975dfcf706",
   "metadata": {},
   "outputs": [
    {
     "name": "stdout",
     "output_type": "stream",
     "text": [
      "100\n",
      "200\n",
      "300\n",
      "400\n",
      "500\n",
      "600\n",
      "700\n",
      "800\n",
      "900\n",
      "1000\n",
      "1100\n",
      "1200\n",
      "1300\n",
      "1400\n",
      "1500\n",
      "1600\n",
      "1700\n",
      "1800\n",
      "1900\n",
      "2000\n",
      "2100\n",
      "2200\n",
      "2300\n",
      "2400\n",
      "2500\n",
      "2600\n",
      "2700\n",
      "2800\n",
      "2900\n",
      "3000\n",
      "3100\n",
      "3200\n",
      "3300\n",
      "3400\n",
      "3500\n",
      "3600\n",
      "3700\n",
      "3800\n",
      "3900\n",
      "4000\n",
      "4100\n",
      "4200\n",
      "4300\n",
      "4400\n",
      "4500\n",
      "4600\n",
      "4700\n",
      "4800\n",
      "4900\n",
      "5000\n",
      "5100\n",
      "5200\n",
      "5300\n",
      "5400\n",
      "5500\n",
      "5600\n",
      "5700\n",
      "5800\n",
      "5900\n",
      "6000\n",
      "6100\n",
      "6200\n",
      "6300\n",
      "6400\n",
      "6500\n",
      "6600\n",
      "6700\n",
      "6800\n",
      "6900\n",
      "7000\n",
      "7100\n",
      "7200\n",
      "7300\n",
      "7400\n",
      "7500\n",
      "7600\n"
     ]
    }
   ],
   "source": [
    "i = 0\n",
    "start_time = timeit.default_timer()\n",
    "for out in pipe(KeyDataset(dataset_test, 'text'), ['world', 'sports', 'business', 'technology', 'science']):\n",
    "    label = out['labels'][0]\n",
    "    \n",
    "    if label == 'world':\n",
    "        predicted_values.append(0)\n",
    "    if label == 'sports':\n",
    "        predicted_values.append(1)\n",
    "    if label == 'business':\n",
    "        predicted_values.append(2)\n",
    "    if label == 'technology':\n",
    "        predicted_values.append(3)\n",
    "    if label == 'science':\n",
    "        predicted_values.append(3)\n",
    "\n",
    "    i = i + 1\n",
    "    if i % 100 == 0:\n",
    "        print(i)\n",
    "\n",
    "stop_time = timeit.default_timer()"
   ]
  },
  {
   "cell_type": "code",
   "execution_count": 8,
   "id": "1358a7e3-4f41-415b-9163-8001d612b9a8",
   "metadata": {},
   "outputs": [
    {
     "name": "stdout",
     "output_type": "stream",
     "text": [
      "Execution time 9233.484552405003 seconds\n"
     ]
    }
   ],
   "source": [
    "print(f'Execution time {stop_time - start_time} seconds')"
   ]
  },
  {
   "cell_type": "code",
   "execution_count": 9,
   "id": "6a940fb2-696e-4390-8680-c23fe649ddde",
   "metadata": {},
   "outputs": [
    {
     "name": "stdout",
     "output_type": "stream",
     "text": [
      "Test Accuracy: 0.7527631578947368\n"
     ]
    }
   ],
   "source": [
    "print('Test Accuracy: {}'.format( \n",
    "    accuracy_score(y_true=df_test['label'], y_pred=predicted_values)\n",
    "))"
   ]
  },
  {
   "cell_type": "code",
   "execution_count": 10,
   "id": "942cddc5-996d-4e57-99d6-135b612fc305",
   "metadata": {},
   "outputs": [
    {
     "name": "stdout",
     "output_type": "stream",
     "text": [
      "Test f-score: 0.7549955876370751\n"
     ]
    }
   ],
   "source": [
    "print('Test f-score: {}'.format(\n",
    "    f1_score(y_true=df_test['label'], y_pred=predicted_values, average='weighted'))\n",
    ")"
   ]
  },
  {
   "cell_type": "code",
   "execution_count": null,
   "id": "e94370b1-e626-4d34-a905-1ca3c5ffb1e2",
   "metadata": {},
   "outputs": [],
   "source": []
  }
 ],
 "metadata": {
  "kernelspec": {
   "display_name": "Python 3 (ipykernel)",
   "language": "python",
   "name": "python3"
  },
  "language_info": {
   "codemirror_mode": {
    "name": "ipython",
    "version": 3
   },
   "file_extension": ".py",
   "mimetype": "text/x-python",
   "name": "python",
   "nbconvert_exporter": "python",
   "pygments_lexer": "ipython3",
   "version": "3.10.12"
  }
 },
 "nbformat": 4,
 "nbformat_minor": 5
}
