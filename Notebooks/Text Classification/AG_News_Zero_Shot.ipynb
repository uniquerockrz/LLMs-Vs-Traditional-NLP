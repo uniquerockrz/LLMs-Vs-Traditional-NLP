{
 "cells": [
  {
   "cell_type": "code",
   "execution_count": 1,
   "id": "9361792b-c6d7-40f7-9dea-adc787c5c387",
   "metadata": {},
   "outputs": [],
   "source": [
    "from datasets import load_dataset\n",
    "from transformers import pipeline\n",
    "from transformers.pipelines.pt_utils import KeyDataset\n",
    "import numpy as np\n",
    "import timeit"
   ]
  },
  {
   "cell_type": "code",
   "execution_count": 2,
   "id": "d5d0a23e-ca32-4a0c-bda4-95b86140d765",
   "metadata": {},
   "outputs": [],
   "source": [
    "pipe = pipeline('zero-shot-classification', model='facebook/bart-large-mnli')"
   ]
  },
  {
   "cell_type": "code",
   "execution_count": 3,
   "id": "b13d62e9-3047-4e43-a1bc-713f44ee1e49",
   "metadata": {},
   "outputs": [],
   "source": [
    "dataset_train = load_dataset('ag_news', split='train')\n",
    "dataset_test = load_dataset('ag_news', split='test')"
   ]
  },
  {
   "cell_type": "code",
   "execution_count": 5,
   "id": "56178ab5-d39c-4487-ba33-e0994066a07f",
   "metadata": {},
   "outputs": [],
   "source": [
    "predicted_values = []"
   ]
  },
  {
   "cell_type": "code",
   "execution_count": null,
   "id": "f656b395-347b-4638-8100-a7975dfcf706",
   "metadata": {},
   "outputs": [
    {
     "name": "stdout",
     "output_type": "stream",
     "text": [
      "100\n",
      "200\n",
      "300\n",
      "400\n",
      "500\n",
      "600\n",
      "700\n",
      "800\n",
      "900\n",
      "1000\n"
     ]
    }
   ],
   "source": [
    "i = 0\n",
    "start_time = timeit.default_timer()\n",
    "for out in pipe(KeyDataset(dataset_test, 'text'), ['world', 'sports', 'business', 'technology']):\n",
    "    label = out['labels'][0]\n",
    "    \n",
    "    if label == 'world':\n",
    "        predicted_values.append(0)\n",
    "    if label == 'sports':\n",
    "        predicted_values.append(1)\n",
    "    if label == 'business':\n",
    "        predicted_values.append(2)\n",
    "    if label == 'technology':\n",
    "        predicted_values.append(3)\n",
    "\n",
    "    i = i + 1\n",
    "    if i % 100 == 0:\n",
    "        print(i)\n",
    "\n",
    "stop_time = timeit.default_timer()"
   ]
  },
  {
   "cell_type": "code",
   "execution_count": null,
   "id": "1358a7e3-4f41-415b-9163-8001d612b9a8",
   "metadata": {},
   "outputs": [],
   "source": []
  }
 ],
 "metadata": {
  "kernelspec": {
   "display_name": "Python 3 (ipykernel)",
   "language": "python",
   "name": "python3"
  },
  "language_info": {
   "codemirror_mode": {
    "name": "ipython",
    "version": 3
   },
   "file_extension": ".py",
   "mimetype": "text/x-python",
   "name": "python",
   "nbconvert_exporter": "python",
   "pygments_lexer": "ipython3",
   "version": "3.10.12"
  }
 },
 "nbformat": 4,
 "nbformat_minor": 5
}
