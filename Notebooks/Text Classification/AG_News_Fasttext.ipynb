{
 "cells": [
  {
   "cell_type": "code",
   "execution_count": 1,
   "id": "e0fd8317-7cd6-4998-ac60-874b83242ace",
   "metadata": {},
   "outputs": [],
   "source": [
    "import fasttext\n",
    "from datasets import load_dataset\n",
    "import pandas as pd\n",
    "import csv\n",
    "from sklearn.metrics import accuracy_score, f1_score"
   ]
  },
  {
   "cell_type": "code",
   "execution_count": 2,
   "id": "91810829-5f40-443c-9011-aa9369215f22",
   "metadata": {},
   "outputs": [],
   "source": [
    "dataset = load_dataset('ag_news')"
   ]
  },
  {
   "cell_type": "code",
   "execution_count": 3,
   "id": "e3f53acb-4673-4b99-98c5-1a8610a007f7",
   "metadata": {},
   "outputs": [],
   "source": [
    "# Let's convert them to dataframes\n",
    "df_train = pd.DataFrame(dataset['train'])\n",
    "df_test = pd.DataFrame(dataset['test'])"
   ]
  },
  {
   "cell_type": "code",
   "execution_count": 4,
   "id": "c3938373-9726-4346-af21-5732d616e9bd",
   "metadata": {},
   "outputs": [],
   "source": [
    "def get_fasttext_label(label):\n",
    "    if label == 0:\n",
    "        return '__label__world'\n",
    "    if label == 1:\n",
    "        return '__label__sports'\n",
    "    if label == 2:\n",
    "        return '__label__business'\n",
    "    if label == 3:\n",
    "        return '__label__technology'"
   ]
  },
  {
   "cell_type": "code",
   "execution_count": 5,
   "id": "de491189-264f-4867-8ae8-5adb13f0752f",
   "metadata": {},
   "outputs": [],
   "source": [
    "df_train['fasttext_label'] = df_train['label'].apply(get_fasttext_label)\n",
    "df_test['fasttext_label'] = df_test['label'].apply(get_fasttext_label)"
   ]
  },
  {
   "cell_type": "code",
   "execution_count": 6,
   "id": "912cb3fa-51f9-4fae-b2d1-2a7f2954b5eb",
   "metadata": {},
   "outputs": [
    {
     "data": {
      "text/html": [
       "<div>\n",
       "<style scoped>\n",
       "    .dataframe tbody tr th:only-of-type {\n",
       "        vertical-align: middle;\n",
       "    }\n",
       "\n",
       "    .dataframe tbody tr th {\n",
       "        vertical-align: top;\n",
       "    }\n",
       "\n",
       "    .dataframe thead th {\n",
       "        text-align: right;\n",
       "    }\n",
       "</style>\n",
       "<table border=\"1\" class=\"dataframe\">\n",
       "  <thead>\n",
       "    <tr style=\"text-align: right;\">\n",
       "      <th></th>\n",
       "      <th>text</th>\n",
       "      <th>label</th>\n",
       "      <th>fasttext_label</th>\n",
       "    </tr>\n",
       "  </thead>\n",
       "  <tbody>\n",
       "    <tr>\n",
       "      <th>0</th>\n",
       "      <td>Wall St. Bears Claw Back Into the Black (Reute...</td>\n",
       "      <td>2</td>\n",
       "      <td>__label__business</td>\n",
       "    </tr>\n",
       "    <tr>\n",
       "      <th>1</th>\n",
       "      <td>Carlyle Looks Toward Commercial Aerospace (Reu...</td>\n",
       "      <td>2</td>\n",
       "      <td>__label__business</td>\n",
       "    </tr>\n",
       "    <tr>\n",
       "      <th>2</th>\n",
       "      <td>Oil and Economy Cloud Stocks' Outlook (Reuters...</td>\n",
       "      <td>2</td>\n",
       "      <td>__label__business</td>\n",
       "    </tr>\n",
       "    <tr>\n",
       "      <th>3</th>\n",
       "      <td>Iraq Halts Oil Exports from Main Southern Pipe...</td>\n",
       "      <td>2</td>\n",
       "      <td>__label__business</td>\n",
       "    </tr>\n",
       "    <tr>\n",
       "      <th>4</th>\n",
       "      <td>Oil prices soar to all-time record, posing new...</td>\n",
       "      <td>2</td>\n",
       "      <td>__label__business</td>\n",
       "    </tr>\n",
       "    <tr>\n",
       "      <th>5</th>\n",
       "      <td>Stocks End Up, But Near Year Lows (Reuters) Re...</td>\n",
       "      <td>2</td>\n",
       "      <td>__label__business</td>\n",
       "    </tr>\n",
       "    <tr>\n",
       "      <th>6</th>\n",
       "      <td>Money Funds Fell in Latest Week (AP) AP - Asse...</td>\n",
       "      <td>2</td>\n",
       "      <td>__label__business</td>\n",
       "    </tr>\n",
       "    <tr>\n",
       "      <th>7</th>\n",
       "      <td>Fed minutes show dissent over inflation (USATO...</td>\n",
       "      <td>2</td>\n",
       "      <td>__label__business</td>\n",
       "    </tr>\n",
       "    <tr>\n",
       "      <th>8</th>\n",
       "      <td>Safety Net (Forbes.com) Forbes.com - After ear...</td>\n",
       "      <td>2</td>\n",
       "      <td>__label__business</td>\n",
       "    </tr>\n",
       "    <tr>\n",
       "      <th>9</th>\n",
       "      <td>Wall St. Bears Claw Back Into the Black  NEW Y...</td>\n",
       "      <td>2</td>\n",
       "      <td>__label__business</td>\n",
       "    </tr>\n",
       "  </tbody>\n",
       "</table>\n",
       "</div>"
      ],
      "text/plain": [
       "                                                text  label     fasttext_label\n",
       "0  Wall St. Bears Claw Back Into the Black (Reute...      2  __label__business\n",
       "1  Carlyle Looks Toward Commercial Aerospace (Reu...      2  __label__business\n",
       "2  Oil and Economy Cloud Stocks' Outlook (Reuters...      2  __label__business\n",
       "3  Iraq Halts Oil Exports from Main Southern Pipe...      2  __label__business\n",
       "4  Oil prices soar to all-time record, posing new...      2  __label__business\n",
       "5  Stocks End Up, But Near Year Lows (Reuters) Re...      2  __label__business\n",
       "6  Money Funds Fell in Latest Week (AP) AP - Asse...      2  __label__business\n",
       "7  Fed minutes show dissent over inflation (USATO...      2  __label__business\n",
       "8  Safety Net (Forbes.com) Forbes.com - After ear...      2  __label__business\n",
       "9  Wall St. Bears Claw Back Into the Black  NEW Y...      2  __label__business"
      ]
     },
     "execution_count": 6,
     "metadata": {},
     "output_type": "execute_result"
    }
   ],
   "source": [
    "df_train.head(10)"
   ]
  },
  {
   "cell_type": "code",
   "execution_count": 7,
   "id": "07cf9b58-41a9-4f01-96b7-cab5f3331ed6",
   "metadata": {},
   "outputs": [],
   "source": [
    "df_train[['fasttext_label', 'text']].to_csv('../../data/train_fasttext_agnews.txt', index = False, sep = ' ', header = None, quoting = csv.QUOTE_NONE, quotechar = \"\", escapechar = \" \")\n",
    "df_test[['fasttext_label', 'text']].to_csv('../../data/test_fasttext_agnews.txt', index = False, sep = ' ', header = None, quoting = csv.QUOTE_NONE, quotechar = \"\", escapechar = \" \")"
   ]
  },
  {
   "cell_type": "code",
   "execution_count": 8,
   "id": "4183568c-79b7-4781-b053-ad7e0f7879a7",
   "metadata": {},
   "outputs": [
    {
     "name": "stderr",
     "output_type": "stream",
     "text": [
      "Read 4M words\n",
      "Number of words:  188111\n",
      "Number of labels: 4\n",
      "Progress: 100.0% words/sec/thread: 1608438 lr:  0.000000 avg.loss:  0.049638 ETA:   0h 0m 0s\n"
     ]
    }
   ],
   "source": [
    "model = fasttext.train_supervised('../../data/train_fasttext_agnews.txt', epoch=25, wordNgrams=2)"
   ]
  },
  {
   "cell_type": "code",
   "execution_count": 9,
   "id": "2dc704dc-bb38-4b46-a3bb-623b9471c891",
   "metadata": {},
   "outputs": [
    {
     "data": {
      "text/plain": [
       "(120000, 0.9998333333333334, 0.9998333333333334)"
      ]
     },
     "execution_count": 9,
     "metadata": {},
     "output_type": "execute_result"
    }
   ],
   "source": [
    "model.test('../../data/train_fasttext_agnews.txt') # train accuracy"
   ]
  },
  {
   "cell_type": "code",
   "execution_count": 10,
   "id": "feaa7854-4105-4784-a7f3-917f18b4c5ad",
   "metadata": {},
   "outputs": [
    {
     "data": {
      "text/plain": [
       "(7600, 0.9189473684210526, 0.9189473684210526)"
      ]
     },
     "execution_count": 10,
     "metadata": {},
     "output_type": "execute_result"
    }
   ],
   "source": [
    "model.test('../../data/test_fasttext_agnews.txt') # test accuracy"
   ]
  },
  {
   "cell_type": "code",
   "execution_count": 11,
   "id": "68cf4d8d-f5cb-46ba-9453-86fa7310ddac",
   "metadata": {},
   "outputs": [],
   "source": [
    "def predict_fasttext(text):\n",
    "    label = model.predict(text)[0][0]\n",
    "    if label == '__label__world':\n",
    "        return 0\n",
    "    if label == '__label__sports':\n",
    "        return 1\n",
    "    if label == '__label__business':\n",
    "        return 2\n",
    "    if label == '__label__technology':\n",
    "        return 3"
   ]
  },
  {
   "cell_type": "code",
   "execution_count": 12,
   "id": "662e670b-9a38-467a-9491-b7a517a2c9d1",
   "metadata": {},
   "outputs": [],
   "source": [
    "df_train['predicted_fasttext'] = df_train['text'].apply(predict_fasttext)\n",
    "df_test['predicted_fasttext'] = df_test['text'].apply(predict_fasttext)"
   ]
  },
  {
   "cell_type": "code",
   "execution_count": 13,
   "id": "56ce30d5-385b-4046-9d69-8bf55a7e3902",
   "metadata": {},
   "outputs": [
    {
     "name": "stdout",
     "output_type": "stream",
     "text": [
      "Train Accuracy: 0.9998333333333334, Test Accuracy: 0.9189473684210526\n"
     ]
    }
   ],
   "source": [
    "print('Train Accuracy: {}, Test Accuracy: {}'.format(\n",
    "    accuracy_score(y_true=df_train['label'], y_pred=df_train['predicted_fasttext']), \n",
    "    accuracy_score(y_true=df_test['label'], y_pred=df_test['predicted_fasttext'])\n",
    "))"
   ]
  },
  {
   "cell_type": "code",
   "execution_count": 14,
   "id": "31f8c85d-ac5f-4f80-9885-977662e37f72",
   "metadata": {},
   "outputs": [
    {
     "name": "stdout",
     "output_type": "stream",
     "text": [
      "Train f-score: 0.9998333256876728, Test f-score: 0.918798996049317\n"
     ]
    }
   ],
   "source": [
    "print('Train f-score: {}, Test f-score: {}'.format(\n",
    "    f1_score(y_true=df_train['label'], y_pred=df_train['predicted_fasttext'], average='weighted'), \n",
    "    f1_score(y_true=df_test['label'], y_pred=df_test['predicted_fasttext'], average='weighted'))\n",
    ")"
   ]
  }
 ],
 "metadata": {
  "kernelspec": {
   "display_name": "Python 3 (ipykernel)",
   "language": "python",
   "name": "python3"
  },
  "language_info": {
   "codemirror_mode": {
    "name": "ipython",
    "version": 3
   },
   "file_extension": ".py",
   "mimetype": "text/x-python",
   "name": "python",
   "nbconvert_exporter": "python",
   "pygments_lexer": "ipython3",
   "version": "3.10.12"
  }
 },
 "nbformat": 4,
 "nbformat_minor": 5
}
